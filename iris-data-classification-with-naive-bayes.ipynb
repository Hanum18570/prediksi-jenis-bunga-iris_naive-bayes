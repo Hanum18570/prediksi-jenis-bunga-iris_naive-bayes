{
 "cells": [
  {
   "cell_type": "markdown",
   "id": "324da354",
   "metadata": {
    "papermill": {
     "duration": 0.017168,
     "end_time": "2024-04-15T08:27:35.152081",
     "exception": false,
     "start_time": "2024-04-15T08:27:35.134913",
     "status": "completed"
    },
    "tags": []
   },
   "source": [
    "# Klasifikasi Data Iris dengan Naive Bayes"
   ]
  },
  {
   "cell_type": "markdown",
   "id": "5f3584d2",
   "metadata": {
    "papermill": {
     "duration": 0.016747,
     "end_time": "2024-04-15T08:27:35.185441",
     "exception": false,
     "start_time": "2024-04-15T08:27:35.168694",
     "status": "completed"
    },
    "tags": []
   },
   "source": [
    "Klasifikasi Data Iris dengan algoritma Naive Bayes adalah suatu pendekatan di mana kita menggunakan algoritma pembelajaran mesin Naive Bayes untuk memprediksi kelas dari setiap contoh dalam dataset Iris. Dataset Iris adalah dataset yang sering digunakan dalam pembelajaran mesin dan ilmu data, dan itu berisi informasi tentang tiga spesies berbeda dari bunga Iris, yaitu Iris Setosa, Iris Versicolor, dan Iris Virginica. Dataset ini memiliki empat atribut fitur numerik, yaitu panjang kelopak, lebar kelopak, panjang mahkota, dan lebar mahkota."
   ]
  },
  {
   "cell_type": "markdown",
   "id": "3631bfd7",
   "metadata": {
    "papermill": {
     "duration": 0.015837,
     "end_time": "2024-04-15T08:27:35.217611",
     "exception": false,
     "start_time": "2024-04-15T08:27:35.201774",
     "status": "completed"
    },
    "tags": []
   },
   "source": [
    "**Langkah-langkah dalam klasifikasi Data Iris dengan Naive Bayes adalah sebagai berikut:**\n",
    "\n",
    "1. Pemuatan Data: Pertama, dataset Iris dimuat ke dalam program menggunakan library seperti Scikit-Learn. Dataset ini terdiri dari atribut fitur (panjang kelopak, lebar kelopak, panjang mahkota, dan lebar mahkota) dan label kelas (jenis spesies Iris).\n",
    "\n",
    "1. Pemisahan Data: Data dibagi menjadi dua bagian: data pelatihan dan data uji. Data pelatihan digunakan untuk melatih model Naive Bayes, sedangkan data uji digunakan untuk menguji seberapa baik model dapat memprediksi kelas dari data yang tidak pernah dilihat sebelumnya.\n",
    "\n",
    "1. Inisialisasi Model: Model Naive Bayes, khususnya Gaussian Naive Bayes, digunakan untuk melakukan klasifikasi. Model ini mengasumsikan bahwa atribut-atribut fitur adalah independen satu sama lain. Model Naive Bayes kemudian diinisialisasi.\n",
    "\n",
    "1. Pelatihan Model: Model Naive Bayes dilatih menggunakan data pelatihan. Model belajar untuk mengklasifikasikan data berdasarkan atribut-atribut fitur yang diberikan dan menghitung probabilitasnya.\n",
    "\n",
    "1. Prediksi: Setelah pelatihan selesai, model Naive Bayes dapat digunakan untuk memprediksi kelas dari data uji. Model menghitung probabilitas kelas untuk setiap contoh data uji dan memilih kelas dengan probabilitas tertinggi sebagai prediksi.\n",
    "\n",
    "1. Evaluasi Model: Kinerja model dievaluasi dengan mengukur sejauh mana prediksi model cocok dengan kelas sebenarnya dalam data uji. Salah satu metrik yang umum digunakan adalah akurasi, yang mengukur sejauh mana prediksi benar dibandingkan dengan total jumlah data uji.\n",
    "\n",
    "1. Interpretasi Hasil: Hasil akhir dari klasifikasi adalah kemampuan model untuk memprediksi spesies Iris berdasarkan atribut-atribut fitur yang diberikan. Model Naive Bayes dapat memberikan informasi tentang probabilitas kelas prediksi yang dapat digunakan untuk analisis lebih lanjut.\n",
    "\n",
    "Klasifikasi Data Iris dengan Naive Bayes adalah contoh penggunaan algoritma pembelajaran mesin untuk mengklasifikasikan data yang memiliki atribut fitur numerik. Model Naive Bayes adalah salah satu dari banyak algoritma klasifikasi yang dapat digunakan dalam konteks ini, dan dapat memberikan hasil yang baik jika asumsi independensi antara atribut fitur hampir terpenuhi."
   ]
  },
  {
   "cell_type": "code",
   "execution_count": 1,
   "id": "0d0dfca9",
   "metadata": {
    "execution": {
     "iopub.execute_input": "2024-04-15T08:27:35.252700Z",
     "iopub.status.busy": "2024-04-15T08:27:35.252097Z",
     "iopub.status.idle": "2024-04-15T08:27:37.004389Z",
     "shell.execute_reply": "2024-04-15T08:27:37.003031Z"
    },
    "papermill": {
     "duration": 1.773703,
     "end_time": "2024-04-15T08:27:37.007545",
     "exception": false,
     "start_time": "2024-04-15T08:27:35.233842",
     "status": "completed"
    },
    "tags": []
   },
   "outputs": [],
   "source": [
    "import numpy as np\n",
    "from sklearn.datasets import load_iris\n",
    "from sklearn.model_selection import train_test_split\n",
    "from sklearn.naive_bayes import GaussianNB\n",
    "from sklearn.metrics import accuracy_score\n",
    "from sklearn.metrics import classification_report"
   ]
  },
  {
   "cell_type": "markdown",
   "id": "e70efccb",
   "metadata": {
    "papermill": {
     "duration": 0.015953,
     "end_time": "2024-04-15T08:27:37.040077",
     "exception": false,
     "start_time": "2024-04-15T08:27:37.024124",
     "status": "completed"
    },
    "tags": []
   },
   "source": [
    "# Load the Iris dataset"
   ]
  },
  {
   "cell_type": "code",
   "execution_count": 2,
   "id": "5594ef9f",
   "metadata": {
    "execution": {
     "iopub.execute_input": "2024-04-15T08:27:37.075631Z",
     "iopub.status.busy": "2024-04-15T08:27:37.074926Z",
     "iopub.status.idle": "2024-04-15T08:27:37.087710Z",
     "shell.execute_reply": "2024-04-15T08:27:37.086414Z"
    },
    "papermill": {
     "duration": 0.034078,
     "end_time": "2024-04-15T08:27:37.090519",
     "exception": false,
     "start_time": "2024-04-15T08:27:37.056441",
     "status": "completed"
    },
    "tags": []
   },
   "outputs": [],
   "source": [
    "# Muat dataset Iris\n",
    "iris = load_iris()\n",
    "X = iris.data  # Atribut fitur\n",
    "y = iris.target  # Target (kelas)"
   ]
  },
  {
   "cell_type": "code",
   "execution_count": 3,
   "id": "a48b0ad9",
   "metadata": {
    "execution": {
     "iopub.execute_input": "2024-04-15T08:27:37.125417Z",
     "iopub.status.busy": "2024-04-15T08:27:37.124937Z",
     "iopub.status.idle": "2024-04-15T08:27:37.133476Z",
     "shell.execute_reply": "2024-04-15T08:27:37.132202Z"
    },
    "papermill": {
     "duration": 0.029253,
     "end_time": "2024-04-15T08:27:37.136382",
     "exception": false,
     "start_time": "2024-04-15T08:27:37.107129",
     "status": "completed"
    },
    "tags": []
   },
   "outputs": [
    {
     "data": {
      "text/plain": [
       "(150, 4)"
      ]
     },
     "execution_count": 3,
     "metadata": {},
     "output_type": "execute_result"
    }
   ],
   "source": [
    "X.shape"
   ]
  },
  {
   "cell_type": "code",
   "execution_count": 4,
   "id": "3bf90379",
   "metadata": {
    "execution": {
     "iopub.execute_input": "2024-04-15T08:27:37.171656Z",
     "iopub.status.busy": "2024-04-15T08:27:37.171209Z",
     "iopub.status.idle": "2024-04-15T08:27:37.188631Z",
     "shell.execute_reply": "2024-04-15T08:27:37.187176Z"
    },
    "papermill": {
     "duration": 0.038066,
     "end_time": "2024-04-15T08:27:37.191213",
     "exception": false,
     "start_time": "2024-04-15T08:27:37.153147",
     "status": "completed"
    },
    "tags": []
   },
   "outputs": [
    {
     "data": {
      "text/plain": [
       "array([[5.1, 3.5, 1.4, 0.2],\n",
       "       [4.9, 3. , 1.4, 0.2],\n",
       "       [4.7, 3.2, 1.3, 0.2],\n",
       "       [4.6, 3.1, 1.5, 0.2],\n",
       "       [5. , 3.6, 1.4, 0.2],\n",
       "       [5.4, 3.9, 1.7, 0.4],\n",
       "       [4.6, 3.4, 1.4, 0.3],\n",
       "       [5. , 3.4, 1.5, 0.2],\n",
       "       [4.4, 2.9, 1.4, 0.2],\n",
       "       [4.9, 3.1, 1.5, 0.1],\n",
       "       [5.4, 3.7, 1.5, 0.2],\n",
       "       [4.8, 3.4, 1.6, 0.2],\n",
       "       [4.8, 3. , 1.4, 0.1],\n",
       "       [4.3, 3. , 1.1, 0.1],\n",
       "       [5.8, 4. , 1.2, 0.2],\n",
       "       [5.7, 4.4, 1.5, 0.4],\n",
       "       [5.4, 3.9, 1.3, 0.4],\n",
       "       [5.1, 3.5, 1.4, 0.3],\n",
       "       [5.7, 3.8, 1.7, 0.3],\n",
       "       [5.1, 3.8, 1.5, 0.3],\n",
       "       [5.4, 3.4, 1.7, 0.2],\n",
       "       [5.1, 3.7, 1.5, 0.4],\n",
       "       [4.6, 3.6, 1. , 0.2],\n",
       "       [5.1, 3.3, 1.7, 0.5],\n",
       "       [4.8, 3.4, 1.9, 0.2],\n",
       "       [5. , 3. , 1.6, 0.2],\n",
       "       [5. , 3.4, 1.6, 0.4],\n",
       "       [5.2, 3.5, 1.5, 0.2],\n",
       "       [5.2, 3.4, 1.4, 0.2],\n",
       "       [4.7, 3.2, 1.6, 0.2],\n",
       "       [4.8, 3.1, 1.6, 0.2],\n",
       "       [5.4, 3.4, 1.5, 0.4],\n",
       "       [5.2, 4.1, 1.5, 0.1],\n",
       "       [5.5, 4.2, 1.4, 0.2],\n",
       "       [4.9, 3.1, 1.5, 0.2],\n",
       "       [5. , 3.2, 1.2, 0.2],\n",
       "       [5.5, 3.5, 1.3, 0.2],\n",
       "       [4.9, 3.6, 1.4, 0.1],\n",
       "       [4.4, 3. , 1.3, 0.2],\n",
       "       [5.1, 3.4, 1.5, 0.2],\n",
       "       [5. , 3.5, 1.3, 0.3],\n",
       "       [4.5, 2.3, 1.3, 0.3],\n",
       "       [4.4, 3.2, 1.3, 0.2],\n",
       "       [5. , 3.5, 1.6, 0.6],\n",
       "       [5.1, 3.8, 1.9, 0.4],\n",
       "       [4.8, 3. , 1.4, 0.3],\n",
       "       [5.1, 3.8, 1.6, 0.2],\n",
       "       [4.6, 3.2, 1.4, 0.2],\n",
       "       [5.3, 3.7, 1.5, 0.2],\n",
       "       [5. , 3.3, 1.4, 0.2],\n",
       "       [7. , 3.2, 4.7, 1.4],\n",
       "       [6.4, 3.2, 4.5, 1.5],\n",
       "       [6.9, 3.1, 4.9, 1.5],\n",
       "       [5.5, 2.3, 4. , 1.3],\n",
       "       [6.5, 2.8, 4.6, 1.5],\n",
       "       [5.7, 2.8, 4.5, 1.3],\n",
       "       [6.3, 3.3, 4.7, 1.6],\n",
       "       [4.9, 2.4, 3.3, 1. ],\n",
       "       [6.6, 2.9, 4.6, 1.3],\n",
       "       [5.2, 2.7, 3.9, 1.4],\n",
       "       [5. , 2. , 3.5, 1. ],\n",
       "       [5.9, 3. , 4.2, 1.5],\n",
       "       [6. , 2.2, 4. , 1. ],\n",
       "       [6.1, 2.9, 4.7, 1.4],\n",
       "       [5.6, 2.9, 3.6, 1.3],\n",
       "       [6.7, 3.1, 4.4, 1.4],\n",
       "       [5.6, 3. , 4.5, 1.5],\n",
       "       [5.8, 2.7, 4.1, 1. ],\n",
       "       [6.2, 2.2, 4.5, 1.5],\n",
       "       [5.6, 2.5, 3.9, 1.1],\n",
       "       [5.9, 3.2, 4.8, 1.8],\n",
       "       [6.1, 2.8, 4. , 1.3],\n",
       "       [6.3, 2.5, 4.9, 1.5],\n",
       "       [6.1, 2.8, 4.7, 1.2],\n",
       "       [6.4, 2.9, 4.3, 1.3],\n",
       "       [6.6, 3. , 4.4, 1.4],\n",
       "       [6.8, 2.8, 4.8, 1.4],\n",
       "       [6.7, 3. , 5. , 1.7],\n",
       "       [6. , 2.9, 4.5, 1.5],\n",
       "       [5.7, 2.6, 3.5, 1. ],\n",
       "       [5.5, 2.4, 3.8, 1.1],\n",
       "       [5.5, 2.4, 3.7, 1. ],\n",
       "       [5.8, 2.7, 3.9, 1.2],\n",
       "       [6. , 2.7, 5.1, 1.6],\n",
       "       [5.4, 3. , 4.5, 1.5],\n",
       "       [6. , 3.4, 4.5, 1.6],\n",
       "       [6.7, 3.1, 4.7, 1.5],\n",
       "       [6.3, 2.3, 4.4, 1.3],\n",
       "       [5.6, 3. , 4.1, 1.3],\n",
       "       [5.5, 2.5, 4. , 1.3],\n",
       "       [5.5, 2.6, 4.4, 1.2],\n",
       "       [6.1, 3. , 4.6, 1.4],\n",
       "       [5.8, 2.6, 4. , 1.2],\n",
       "       [5. , 2.3, 3.3, 1. ],\n",
       "       [5.6, 2.7, 4.2, 1.3],\n",
       "       [5.7, 3. , 4.2, 1.2],\n",
       "       [5.7, 2.9, 4.2, 1.3],\n",
       "       [6.2, 2.9, 4.3, 1.3],\n",
       "       [5.1, 2.5, 3. , 1.1],\n",
       "       [5.7, 2.8, 4.1, 1.3],\n",
       "       [6.3, 3.3, 6. , 2.5],\n",
       "       [5.8, 2.7, 5.1, 1.9],\n",
       "       [7.1, 3. , 5.9, 2.1],\n",
       "       [6.3, 2.9, 5.6, 1.8],\n",
       "       [6.5, 3. , 5.8, 2.2],\n",
       "       [7.6, 3. , 6.6, 2.1],\n",
       "       [4.9, 2.5, 4.5, 1.7],\n",
       "       [7.3, 2.9, 6.3, 1.8],\n",
       "       [6.7, 2.5, 5.8, 1.8],\n",
       "       [7.2, 3.6, 6.1, 2.5],\n",
       "       [6.5, 3.2, 5.1, 2. ],\n",
       "       [6.4, 2.7, 5.3, 1.9],\n",
       "       [6.8, 3. , 5.5, 2.1],\n",
       "       [5.7, 2.5, 5. , 2. ],\n",
       "       [5.8, 2.8, 5.1, 2.4],\n",
       "       [6.4, 3.2, 5.3, 2.3],\n",
       "       [6.5, 3. , 5.5, 1.8],\n",
       "       [7.7, 3.8, 6.7, 2.2],\n",
       "       [7.7, 2.6, 6.9, 2.3],\n",
       "       [6. , 2.2, 5. , 1.5],\n",
       "       [6.9, 3.2, 5.7, 2.3],\n",
       "       [5.6, 2.8, 4.9, 2. ],\n",
       "       [7.7, 2.8, 6.7, 2. ],\n",
       "       [6.3, 2.7, 4.9, 1.8],\n",
       "       [6.7, 3.3, 5.7, 2.1],\n",
       "       [7.2, 3.2, 6. , 1.8],\n",
       "       [6.2, 2.8, 4.8, 1.8],\n",
       "       [6.1, 3. , 4.9, 1.8],\n",
       "       [6.4, 2.8, 5.6, 2.1],\n",
       "       [7.2, 3. , 5.8, 1.6],\n",
       "       [7.4, 2.8, 6.1, 1.9],\n",
       "       [7.9, 3.8, 6.4, 2. ],\n",
       "       [6.4, 2.8, 5.6, 2.2],\n",
       "       [6.3, 2.8, 5.1, 1.5],\n",
       "       [6.1, 2.6, 5.6, 1.4],\n",
       "       [7.7, 3. , 6.1, 2.3],\n",
       "       [6.3, 3.4, 5.6, 2.4],\n",
       "       [6.4, 3.1, 5.5, 1.8],\n",
       "       [6. , 3. , 4.8, 1.8],\n",
       "       [6.9, 3.1, 5.4, 2.1],\n",
       "       [6.7, 3.1, 5.6, 2.4],\n",
       "       [6.9, 3.1, 5.1, 2.3],\n",
       "       [5.8, 2.7, 5.1, 1.9],\n",
       "       [6.8, 3.2, 5.9, 2.3],\n",
       "       [6.7, 3.3, 5.7, 2.5],\n",
       "       [6.7, 3. , 5.2, 2.3],\n",
       "       [6.3, 2.5, 5. , 1.9],\n",
       "       [6.5, 3. , 5.2, 2. ],\n",
       "       [6.2, 3.4, 5.4, 2.3],\n",
       "       [5.9, 3. , 5.1, 1.8]])"
      ]
     },
     "execution_count": 4,
     "metadata": {},
     "output_type": "execute_result"
    }
   ],
   "source": [
    "X"
   ]
  },
  {
   "cell_type": "code",
   "execution_count": 5,
   "id": "5708575d",
   "metadata": {
    "execution": {
     "iopub.execute_input": "2024-04-15T08:27:37.230941Z",
     "iopub.status.busy": "2024-04-15T08:27:37.230377Z",
     "iopub.status.idle": "2024-04-15T08:27:37.237859Z",
     "shell.execute_reply": "2024-04-15T08:27:37.236928Z"
    },
    "papermill": {
     "duration": 0.030757,
     "end_time": "2024-04-15T08:27:37.241385",
     "exception": false,
     "start_time": "2024-04-15T08:27:37.210628",
     "status": "completed"
    },
    "tags": []
   },
   "outputs": [
    {
     "data": {
      "text/plain": [
       "(150,)"
      ]
     },
     "execution_count": 5,
     "metadata": {},
     "output_type": "execute_result"
    }
   ],
   "source": [
    "y.shape"
   ]
  },
  {
   "cell_type": "code",
   "execution_count": 6,
   "id": "317229b1",
   "metadata": {
    "execution": {
     "iopub.execute_input": "2024-04-15T08:27:37.281740Z",
     "iopub.status.busy": "2024-04-15T08:27:37.280096Z",
     "iopub.status.idle": "2024-04-15T08:27:37.290179Z",
     "shell.execute_reply": "2024-04-15T08:27:37.289092Z"
    },
    "papermill": {
     "duration": 0.032271,
     "end_time": "2024-04-15T08:27:37.292998",
     "exception": false,
     "start_time": "2024-04-15T08:27:37.260727",
     "status": "completed"
    },
    "tags": []
   },
   "outputs": [
    {
     "data": {
      "text/plain": [
       "array([0, 0, 0, 0, 0, 0, 0, 0, 0, 0, 0, 0, 0, 0, 0, 0, 0, 0, 0, 0, 0, 0,\n",
       "       0, 0, 0, 0, 0, 0, 0, 0, 0, 0, 0, 0, 0, 0, 0, 0, 0, 0, 0, 0, 0, 0,\n",
       "       0, 0, 0, 0, 0, 0, 1, 1, 1, 1, 1, 1, 1, 1, 1, 1, 1, 1, 1, 1, 1, 1,\n",
       "       1, 1, 1, 1, 1, 1, 1, 1, 1, 1, 1, 1, 1, 1, 1, 1, 1, 1, 1, 1, 1, 1,\n",
       "       1, 1, 1, 1, 1, 1, 1, 1, 1, 1, 1, 1, 2, 2, 2, 2, 2, 2, 2, 2, 2, 2,\n",
       "       2, 2, 2, 2, 2, 2, 2, 2, 2, 2, 2, 2, 2, 2, 2, 2, 2, 2, 2, 2, 2, 2,\n",
       "       2, 2, 2, 2, 2, 2, 2, 2, 2, 2, 2, 2, 2, 2, 2, 2, 2, 2])"
      ]
     },
     "execution_count": 6,
     "metadata": {},
     "output_type": "execute_result"
    }
   ],
   "source": [
    "y"
   ]
  },
  {
   "cell_type": "markdown",
   "id": "660b181a",
   "metadata": {
    "papermill": {
     "duration": 0.018302,
     "end_time": "2024-04-15T08:27:37.329175",
     "exception": false,
     "start_time": "2024-04-15T08:27:37.310873",
     "status": "completed"
    },
    "tags": []
   },
   "source": [
    "# target_names"
   ]
  },
  {
   "cell_type": "code",
   "execution_count": 7,
   "id": "d06e578f",
   "metadata": {
    "execution": {
     "iopub.execute_input": "2024-04-15T08:27:37.365647Z",
     "iopub.status.busy": "2024-04-15T08:27:37.365186Z",
     "iopub.status.idle": "2024-04-15T08:27:37.371783Z",
     "shell.execute_reply": "2024-04-15T08:27:37.370982Z"
    },
    "papermill": {
     "duration": 0.027455,
     "end_time": "2024-04-15T08:27:37.373858",
     "exception": false,
     "start_time": "2024-04-15T08:27:37.346403",
     "status": "completed"
    },
    "tags": []
   },
   "outputs": [
    {
     "data": {
      "text/plain": [
       "array(['setosa', 'versicolor', 'virginica'], dtype='<U10')"
      ]
     },
     "execution_count": 7,
     "metadata": {},
     "output_type": "execute_result"
    }
   ],
   "source": [
    "iris.target_names"
   ]
  },
  {
   "cell_type": "markdown",
   "id": "f804597e",
   "metadata": {
    "papermill": {
     "duration": 0.017061,
     "end_time": "2024-04-15T08:27:37.498385",
     "exception": false,
     "start_time": "2024-04-15T08:27:37.481324",
     "status": "completed"
    },
    "tags": []
   },
   "source": [
    "# View some iris data at the beginning and end"
   ]
  },
  {
   "cell_type": "code",
   "execution_count": 8,
   "id": "021f6a0e",
   "metadata": {
    "execution": {
     "iopub.execute_input": "2024-04-15T08:27:37.535517Z",
     "iopub.status.busy": "2024-04-15T08:27:37.535006Z",
     "iopub.status.idle": "2024-04-15T08:27:38.570354Z",
     "shell.execute_reply": "2024-04-15T08:27:38.568988Z"
    },
    "papermill": {
     "duration": 1.057849,
     "end_time": "2024-04-15T08:27:38.573707",
     "exception": false,
     "start_time": "2024-04-15T08:27:37.515858",
     "status": "completed"
    },
    "tags": []
   },
   "outputs": [
    {
     "data": {
      "text/plain": [
       "(150, 4)"
      ]
     },
     "execution_count": 8,
     "metadata": {},
     "output_type": "execute_result"
    }
   ],
   "source": [
    "import pandas as pd\n",
    "\n",
    "# Membuat DataFrame dari dataset Iris\n",
    "iris_df = pd.DataFrame(data=iris.data, columns=iris.feature_names)\n",
    "\n",
    "\n",
    "# Menampilkan Dimensi DataFrame Iris\n",
    "iris_df.shape"
   ]
  },
  {
   "cell_type": "code",
   "execution_count": 9,
   "id": "2d949198",
   "metadata": {
    "execution": {
     "iopub.execute_input": "2024-04-15T08:27:38.611757Z",
     "iopub.status.busy": "2024-04-15T08:27:38.611097Z",
     "iopub.status.idle": "2024-04-15T08:27:38.637124Z",
     "shell.execute_reply": "2024-04-15T08:27:38.635881Z"
    },
    "papermill": {
     "duration": 0.048082,
     "end_time": "2024-04-15T08:27:38.639728",
     "exception": false,
     "start_time": "2024-04-15T08:27:38.591646",
     "status": "completed"
    },
    "tags": []
   },
   "outputs": [
    {
     "data": {
      "text/html": [
       "<div>\n",
       "<style scoped>\n",
       "    .dataframe tbody tr th:only-of-type {\n",
       "        vertical-align: middle;\n",
       "    }\n",
       "\n",
       "    .dataframe tbody tr th {\n",
       "        vertical-align: top;\n",
       "    }\n",
       "\n",
       "    .dataframe thead th {\n",
       "        text-align: right;\n",
       "    }\n",
       "</style>\n",
       "<table border=\"1\" class=\"dataframe\">\n",
       "  <thead>\n",
       "    <tr style=\"text-align: right;\">\n",
       "      <th></th>\n",
       "      <th>sepal length (cm)</th>\n",
       "      <th>sepal width (cm)</th>\n",
       "      <th>petal length (cm)</th>\n",
       "      <th>petal width (cm)</th>\n",
       "    </tr>\n",
       "  </thead>\n",
       "  <tbody>\n",
       "    <tr>\n",
       "      <th>0</th>\n",
       "      <td>5.1</td>\n",
       "      <td>3.5</td>\n",
       "      <td>1.4</td>\n",
       "      <td>0.2</td>\n",
       "    </tr>\n",
       "    <tr>\n",
       "      <th>1</th>\n",
       "      <td>4.9</td>\n",
       "      <td>3.0</td>\n",
       "      <td>1.4</td>\n",
       "      <td>0.2</td>\n",
       "    </tr>\n",
       "    <tr>\n",
       "      <th>2</th>\n",
       "      <td>4.7</td>\n",
       "      <td>3.2</td>\n",
       "      <td>1.3</td>\n",
       "      <td>0.2</td>\n",
       "    </tr>\n",
       "    <tr>\n",
       "      <th>3</th>\n",
       "      <td>4.6</td>\n",
       "      <td>3.1</td>\n",
       "      <td>1.5</td>\n",
       "      <td>0.2</td>\n",
       "    </tr>\n",
       "    <tr>\n",
       "      <th>4</th>\n",
       "      <td>5.0</td>\n",
       "      <td>3.6</td>\n",
       "      <td>1.4</td>\n",
       "      <td>0.2</td>\n",
       "    </tr>\n",
       "  </tbody>\n",
       "</table>\n",
       "</div>"
      ],
      "text/plain": [
       "   sepal length (cm)  sepal width (cm)  petal length (cm)  petal width (cm)\n",
       "0                5.1               3.5                1.4               0.2\n",
       "1                4.9               3.0                1.4               0.2\n",
       "2                4.7               3.2                1.3               0.2\n",
       "3                4.6               3.1                1.5               0.2\n",
       "4                5.0               3.6                1.4               0.2"
      ]
     },
     "execution_count": 9,
     "metadata": {},
     "output_type": "execute_result"
    }
   ],
   "source": [
    "iris_df.head()"
   ]
  },
  {
   "cell_type": "code",
   "execution_count": 10,
   "id": "c6df7be3",
   "metadata": {
    "execution": {
     "iopub.execute_input": "2024-04-15T08:27:38.678423Z",
     "iopub.status.busy": "2024-04-15T08:27:38.677714Z",
     "iopub.status.idle": "2024-04-15T08:27:38.694119Z",
     "shell.execute_reply": "2024-04-15T08:27:38.692890Z"
    },
    "papermill": {
     "duration": 0.03876,
     "end_time": "2024-04-15T08:27:38.696527",
     "exception": false,
     "start_time": "2024-04-15T08:27:38.657767",
     "status": "completed"
    },
    "tags": []
   },
   "outputs": [
    {
     "data": {
      "text/html": [
       "<div>\n",
       "<style scoped>\n",
       "    .dataframe tbody tr th:only-of-type {\n",
       "        vertical-align: middle;\n",
       "    }\n",
       "\n",
       "    .dataframe tbody tr th {\n",
       "        vertical-align: top;\n",
       "    }\n",
       "\n",
       "    .dataframe thead th {\n",
       "        text-align: right;\n",
       "    }\n",
       "</style>\n",
       "<table border=\"1\" class=\"dataframe\">\n",
       "  <thead>\n",
       "    <tr style=\"text-align: right;\">\n",
       "      <th></th>\n",
       "      <th>sepal length (cm)</th>\n",
       "      <th>sepal width (cm)</th>\n",
       "      <th>petal length (cm)</th>\n",
       "      <th>petal width (cm)</th>\n",
       "    </tr>\n",
       "  </thead>\n",
       "  <tbody>\n",
       "    <tr>\n",
       "      <th>145</th>\n",
       "      <td>6.7</td>\n",
       "      <td>3.0</td>\n",
       "      <td>5.2</td>\n",
       "      <td>2.3</td>\n",
       "    </tr>\n",
       "    <tr>\n",
       "      <th>146</th>\n",
       "      <td>6.3</td>\n",
       "      <td>2.5</td>\n",
       "      <td>5.0</td>\n",
       "      <td>1.9</td>\n",
       "    </tr>\n",
       "    <tr>\n",
       "      <th>147</th>\n",
       "      <td>6.5</td>\n",
       "      <td>3.0</td>\n",
       "      <td>5.2</td>\n",
       "      <td>2.0</td>\n",
       "    </tr>\n",
       "    <tr>\n",
       "      <th>148</th>\n",
       "      <td>6.2</td>\n",
       "      <td>3.4</td>\n",
       "      <td>5.4</td>\n",
       "      <td>2.3</td>\n",
       "    </tr>\n",
       "    <tr>\n",
       "      <th>149</th>\n",
       "      <td>5.9</td>\n",
       "      <td>3.0</td>\n",
       "      <td>5.1</td>\n",
       "      <td>1.8</td>\n",
       "    </tr>\n",
       "  </tbody>\n",
       "</table>\n",
       "</div>"
      ],
      "text/plain": [
       "     sepal length (cm)  sepal width (cm)  petal length (cm)  petal width (cm)\n",
       "145                6.7               3.0                5.2               2.3\n",
       "146                6.3               2.5                5.0               1.9\n",
       "147                6.5               3.0                5.2               2.0\n",
       "148                6.2               3.4                5.4               2.3\n",
       "149                5.9               3.0                5.1               1.8"
      ]
     },
     "execution_count": 10,
     "metadata": {},
     "output_type": "execute_result"
    }
   ],
   "source": [
    "iris_df.tail()"
   ]
  },
  {
   "cell_type": "code",
   "execution_count": 11,
   "id": "d87274ec",
   "metadata": {
    "execution": {
     "iopub.execute_input": "2024-04-15T08:27:38.736045Z",
     "iopub.status.busy": "2024-04-15T08:27:38.735220Z",
     "iopub.status.idle": "2024-04-15T08:27:38.757558Z",
     "shell.execute_reply": "2024-04-15T08:27:38.756282Z"
    },
    "papermill": {
     "duration": 0.044859,
     "end_time": "2024-04-15T08:27:38.760087",
     "exception": false,
     "start_time": "2024-04-15T08:27:38.715228",
     "status": "completed"
    },
    "tags": []
   },
   "outputs": [
    {
     "data": {
      "text/html": [
       "<div>\n",
       "<style scoped>\n",
       "    .dataframe tbody tr th:only-of-type {\n",
       "        vertical-align: middle;\n",
       "    }\n",
       "\n",
       "    .dataframe tbody tr th {\n",
       "        vertical-align: top;\n",
       "    }\n",
       "\n",
       "    .dataframe thead th {\n",
       "        text-align: right;\n",
       "    }\n",
       "</style>\n",
       "<table border=\"1\" class=\"dataframe\">\n",
       "  <thead>\n",
       "    <tr style=\"text-align: right;\">\n",
       "      <th></th>\n",
       "      <th>sepal length (cm)</th>\n",
       "      <th>sepal width (cm)</th>\n",
       "      <th>petal length (cm)</th>\n",
       "      <th>petal width (cm)</th>\n",
       "    </tr>\n",
       "  </thead>\n",
       "  <tbody>\n",
       "    <tr>\n",
       "      <th>0</th>\n",
       "      <td>5.1</td>\n",
       "      <td>3.5</td>\n",
       "      <td>1.4</td>\n",
       "      <td>0.2</td>\n",
       "    </tr>\n",
       "    <tr>\n",
       "      <th>1</th>\n",
       "      <td>4.9</td>\n",
       "      <td>3.0</td>\n",
       "      <td>1.4</td>\n",
       "      <td>0.2</td>\n",
       "    </tr>\n",
       "    <tr>\n",
       "      <th>2</th>\n",
       "      <td>4.7</td>\n",
       "      <td>3.2</td>\n",
       "      <td>1.3</td>\n",
       "      <td>0.2</td>\n",
       "    </tr>\n",
       "    <tr>\n",
       "      <th>3</th>\n",
       "      <td>4.6</td>\n",
       "      <td>3.1</td>\n",
       "      <td>1.5</td>\n",
       "      <td>0.2</td>\n",
       "    </tr>\n",
       "    <tr>\n",
       "      <th>4</th>\n",
       "      <td>5.0</td>\n",
       "      <td>3.6</td>\n",
       "      <td>1.4</td>\n",
       "      <td>0.2</td>\n",
       "    </tr>\n",
       "    <tr>\n",
       "      <th>...</th>\n",
       "      <td>...</td>\n",
       "      <td>...</td>\n",
       "      <td>...</td>\n",
       "      <td>...</td>\n",
       "    </tr>\n",
       "    <tr>\n",
       "      <th>145</th>\n",
       "      <td>6.7</td>\n",
       "      <td>3.0</td>\n",
       "      <td>5.2</td>\n",
       "      <td>2.3</td>\n",
       "    </tr>\n",
       "    <tr>\n",
       "      <th>146</th>\n",
       "      <td>6.3</td>\n",
       "      <td>2.5</td>\n",
       "      <td>5.0</td>\n",
       "      <td>1.9</td>\n",
       "    </tr>\n",
       "    <tr>\n",
       "      <th>147</th>\n",
       "      <td>6.5</td>\n",
       "      <td>3.0</td>\n",
       "      <td>5.2</td>\n",
       "      <td>2.0</td>\n",
       "    </tr>\n",
       "    <tr>\n",
       "      <th>148</th>\n",
       "      <td>6.2</td>\n",
       "      <td>3.4</td>\n",
       "      <td>5.4</td>\n",
       "      <td>2.3</td>\n",
       "    </tr>\n",
       "    <tr>\n",
       "      <th>149</th>\n",
       "      <td>5.9</td>\n",
       "      <td>3.0</td>\n",
       "      <td>5.1</td>\n",
       "      <td>1.8</td>\n",
       "    </tr>\n",
       "  </tbody>\n",
       "</table>\n",
       "<p>150 rows × 4 columns</p>\n",
       "</div>"
      ],
      "text/plain": [
       "     sepal length (cm)  sepal width (cm)  petal length (cm)  petal width (cm)\n",
       "0                  5.1               3.5                1.4               0.2\n",
       "1                  4.9               3.0                1.4               0.2\n",
       "2                  4.7               3.2                1.3               0.2\n",
       "3                  4.6               3.1                1.5               0.2\n",
       "4                  5.0               3.6                1.4               0.2\n",
       "..                 ...               ...                ...               ...\n",
       "145                6.7               3.0                5.2               2.3\n",
       "146                6.3               2.5                5.0               1.9\n",
       "147                6.5               3.0                5.2               2.0\n",
       "148                6.2               3.4                5.4               2.3\n",
       "149                5.9               3.0                5.1               1.8\n",
       "\n",
       "[150 rows x 4 columns]"
      ]
     },
     "execution_count": 11,
     "metadata": {},
     "output_type": "execute_result"
    }
   ],
   "source": [
    "iris_df"
   ]
  },
  {
   "cell_type": "markdown",
   "id": "5c69320c",
   "metadata": {
    "papermill": {
     "duration": 0.019117,
     "end_time": "2024-04-15T08:27:38.797613",
     "exception": false,
     "start_time": "2024-04-15T08:27:38.778496",
     "status": "completed"
    },
    "tags": []
   },
   "source": [
    "# Statistik deskriptif"
   ]
  },
  {
   "cell_type": "code",
   "execution_count": 12,
   "id": "af4dd082",
   "metadata": {
    "execution": {
     "iopub.execute_input": "2024-04-15T08:27:38.838384Z",
     "iopub.status.busy": "2024-04-15T08:27:38.837447Z",
     "iopub.status.idle": "2024-04-15T08:27:38.868512Z",
     "shell.execute_reply": "2024-04-15T08:27:38.867324Z"
    },
    "papermill": {
     "duration": 0.05432,
     "end_time": "2024-04-15T08:27:38.871195",
     "exception": false,
     "start_time": "2024-04-15T08:27:38.816875",
     "status": "completed"
    },
    "tags": []
   },
   "outputs": [
    {
     "data": {
      "text/html": [
       "<div>\n",
       "<style scoped>\n",
       "    .dataframe tbody tr th:only-of-type {\n",
       "        vertical-align: middle;\n",
       "    }\n",
       "\n",
       "    .dataframe tbody tr th {\n",
       "        vertical-align: top;\n",
       "    }\n",
       "\n",
       "    .dataframe thead th {\n",
       "        text-align: right;\n",
       "    }\n",
       "</style>\n",
       "<table border=\"1\" class=\"dataframe\">\n",
       "  <thead>\n",
       "    <tr style=\"text-align: right;\">\n",
       "      <th></th>\n",
       "      <th>sepal length (cm)</th>\n",
       "      <th>sepal width (cm)</th>\n",
       "      <th>petal length (cm)</th>\n",
       "      <th>petal width (cm)</th>\n",
       "    </tr>\n",
       "  </thead>\n",
       "  <tbody>\n",
       "    <tr>\n",
       "      <th>count</th>\n",
       "      <td>150.000000</td>\n",
       "      <td>150.000000</td>\n",
       "      <td>150.000000</td>\n",
       "      <td>150.000000</td>\n",
       "    </tr>\n",
       "    <tr>\n",
       "      <th>mean</th>\n",
       "      <td>5.843333</td>\n",
       "      <td>3.057333</td>\n",
       "      <td>3.758000</td>\n",
       "      <td>1.199333</td>\n",
       "    </tr>\n",
       "    <tr>\n",
       "      <th>std</th>\n",
       "      <td>0.828066</td>\n",
       "      <td>0.435866</td>\n",
       "      <td>1.765298</td>\n",
       "      <td>0.762238</td>\n",
       "    </tr>\n",
       "    <tr>\n",
       "      <th>min</th>\n",
       "      <td>4.300000</td>\n",
       "      <td>2.000000</td>\n",
       "      <td>1.000000</td>\n",
       "      <td>0.100000</td>\n",
       "    </tr>\n",
       "    <tr>\n",
       "      <th>25%</th>\n",
       "      <td>5.100000</td>\n",
       "      <td>2.800000</td>\n",
       "      <td>1.600000</td>\n",
       "      <td>0.300000</td>\n",
       "    </tr>\n",
       "    <tr>\n",
       "      <th>50%</th>\n",
       "      <td>5.800000</td>\n",
       "      <td>3.000000</td>\n",
       "      <td>4.350000</td>\n",
       "      <td>1.300000</td>\n",
       "    </tr>\n",
       "    <tr>\n",
       "      <th>75%</th>\n",
       "      <td>6.400000</td>\n",
       "      <td>3.300000</td>\n",
       "      <td>5.100000</td>\n",
       "      <td>1.800000</td>\n",
       "    </tr>\n",
       "    <tr>\n",
       "      <th>max</th>\n",
       "      <td>7.900000</td>\n",
       "      <td>4.400000</td>\n",
       "      <td>6.900000</td>\n",
       "      <td>2.500000</td>\n",
       "    </tr>\n",
       "  </tbody>\n",
       "</table>\n",
       "</div>"
      ],
      "text/plain": [
       "       sepal length (cm)  sepal width (cm)  petal length (cm)  \\\n",
       "count         150.000000        150.000000         150.000000   \n",
       "mean            5.843333          3.057333           3.758000   \n",
       "std             0.828066          0.435866           1.765298   \n",
       "min             4.300000          2.000000           1.000000   \n",
       "25%             5.100000          2.800000           1.600000   \n",
       "50%             5.800000          3.000000           4.350000   \n",
       "75%             6.400000          3.300000           5.100000   \n",
       "max             7.900000          4.400000           6.900000   \n",
       "\n",
       "       petal width (cm)  \n",
       "count        150.000000  \n",
       "mean           1.199333  \n",
       "std            0.762238  \n",
       "min            0.100000  \n",
       "25%            0.300000  \n",
       "50%            1.300000  \n",
       "75%            1.800000  \n",
       "max            2.500000  "
      ]
     },
     "execution_count": 12,
     "metadata": {},
     "output_type": "execute_result"
    }
   ],
   "source": [
    "iris_df.describe()"
   ]
  },
  {
   "cell_type": "markdown",
   "id": "5373d022",
   "metadata": {
    "papermill": {
     "duration": 0.018931,
     "end_time": "2024-04-15T08:27:38.909109",
     "exception": false,
     "start_time": "2024-04-15T08:27:38.890178",
     "status": "completed"
    },
    "tags": []
   },
   "source": [
    "# Divide the data into training and test data"
   ]
  },
  {
   "cell_type": "code",
   "execution_count": 13,
   "id": "7ffe2ea3",
   "metadata": {
    "execution": {
     "iopub.execute_input": "2024-04-15T08:27:38.949221Z",
     "iopub.status.busy": "2024-04-15T08:27:38.948372Z",
     "iopub.status.idle": "2024-04-15T08:27:38.954772Z",
     "shell.execute_reply": "2024-04-15T08:27:38.953475Z"
    },
    "papermill": {
     "duration": 0.029546,
     "end_time": "2024-04-15T08:27:38.957387",
     "exception": false,
     "start_time": "2024-04-15T08:27:38.927841",
     "status": "completed"
    },
    "tags": []
   },
   "outputs": [],
   "source": [
    "# Bagi data menjadi data pelatihan (80%) dan data uji (20%)\n",
    "X_train, X_test, y_train, y_test = train_test_split(X, y, test_size=0.2, random_state=42)"
   ]
  },
  {
   "cell_type": "code",
   "execution_count": 14,
   "id": "2c731875",
   "metadata": {
    "execution": {
     "iopub.execute_input": "2024-04-15T08:27:38.997661Z",
     "iopub.status.busy": "2024-04-15T08:27:38.997159Z",
     "iopub.status.idle": "2024-04-15T08:27:39.005182Z",
     "shell.execute_reply": "2024-04-15T08:27:39.003692Z"
    },
    "papermill": {
     "duration": 0.031108,
     "end_time": "2024-04-15T08:27:39.007713",
     "exception": false,
     "start_time": "2024-04-15T08:27:38.976605",
     "status": "completed"
    },
    "tags": []
   },
   "outputs": [
    {
     "data": {
      "text/plain": [
       "(120, 4)"
      ]
     },
     "execution_count": 14,
     "metadata": {},
     "output_type": "execute_result"
    }
   ],
   "source": [
    "X_train.shape"
   ]
  },
  {
   "cell_type": "code",
   "execution_count": 15,
   "id": "dfdacd9b",
   "metadata": {
    "execution": {
     "iopub.execute_input": "2024-04-15T08:27:39.047743Z",
     "iopub.status.busy": "2024-04-15T08:27:39.047280Z",
     "iopub.status.idle": "2024-04-15T08:27:39.060374Z",
     "shell.execute_reply": "2024-04-15T08:27:39.059361Z"
    },
    "papermill": {
     "duration": 0.035914,
     "end_time": "2024-04-15T08:27:39.062764",
     "exception": false,
     "start_time": "2024-04-15T08:27:39.026850",
     "status": "completed"
    },
    "tags": []
   },
   "outputs": [
    {
     "data": {
      "text/plain": [
       "array([[4.6, 3.6, 1. , 0.2],\n",
       "       [5.7, 4.4, 1.5, 0.4],\n",
       "       [6.7, 3.1, 4.4, 1.4],\n",
       "       [4.8, 3.4, 1.6, 0.2],\n",
       "       [4.4, 3.2, 1.3, 0.2],\n",
       "       [6.3, 2.5, 5. , 1.9],\n",
       "       [6.4, 3.2, 4.5, 1.5],\n",
       "       [5.2, 3.5, 1.5, 0.2],\n",
       "       [5. , 3.6, 1.4, 0.2],\n",
       "       [5.2, 4.1, 1.5, 0.1],\n",
       "       [5.8, 2.7, 5.1, 1.9],\n",
       "       [6. , 3.4, 4.5, 1.6],\n",
       "       [6.7, 3.1, 4.7, 1.5],\n",
       "       [5.4, 3.9, 1.3, 0.4],\n",
       "       [5.4, 3.7, 1.5, 0.2],\n",
       "       [5.5, 2.4, 3.7, 1. ],\n",
       "       [6.3, 2.8, 5.1, 1.5],\n",
       "       [6.4, 3.1, 5.5, 1.8],\n",
       "       [6.6, 3. , 4.4, 1.4],\n",
       "       [7.2, 3.6, 6.1, 2.5],\n",
       "       [5.7, 2.9, 4.2, 1.3],\n",
       "       [7.6, 3. , 6.6, 2.1],\n",
       "       [5.6, 3. , 4.5, 1.5],\n",
       "       [5.1, 3.5, 1.4, 0.2],\n",
       "       [7.7, 2.8, 6.7, 2. ],\n",
       "       [5.8, 2.7, 4.1, 1. ],\n",
       "       [5.2, 3.4, 1.4, 0.2],\n",
       "       [5. , 3.5, 1.3, 0.3],\n",
       "       [5.1, 3.8, 1.9, 0.4],\n",
       "       [5. , 2. , 3.5, 1. ],\n",
       "       [6.3, 2.7, 4.9, 1.8],\n",
       "       [4.8, 3.4, 1.9, 0.2],\n",
       "       [5. , 3. , 1.6, 0.2],\n",
       "       [5.1, 3.3, 1.7, 0.5],\n",
       "       [5.6, 2.7, 4.2, 1.3],\n",
       "       [5.1, 3.4, 1.5, 0.2],\n",
       "       [5.7, 3. , 4.2, 1.2],\n",
       "       [7.7, 3.8, 6.7, 2.2],\n",
       "       [4.6, 3.2, 1.4, 0.2],\n",
       "       [6.2, 2.9, 4.3, 1.3],\n",
       "       [5.7, 2.5, 5. , 2. ],\n",
       "       [5.5, 4.2, 1.4, 0.2],\n",
       "       [6. , 3. , 4.8, 1.8],\n",
       "       [5.8, 2.7, 5.1, 1.9],\n",
       "       [6. , 2.2, 4. , 1. ],\n",
       "       [5.4, 3. , 4.5, 1.5],\n",
       "       [6.2, 3.4, 5.4, 2.3],\n",
       "       [5.5, 2.3, 4. , 1.3],\n",
       "       [5.4, 3.9, 1.7, 0.4],\n",
       "       [5. , 2.3, 3.3, 1. ],\n",
       "       [6.4, 2.7, 5.3, 1.9],\n",
       "       [5. , 3.3, 1.4, 0.2],\n",
       "       [5. , 3.2, 1.2, 0.2],\n",
       "       [5.5, 2.4, 3.8, 1.1],\n",
       "       [6.7, 3. , 5. , 1.7],\n",
       "       [4.9, 3.1, 1.5, 0.2],\n",
       "       [5.8, 2.8, 5.1, 2.4],\n",
       "       [5. , 3.4, 1.5, 0.2],\n",
       "       [5. , 3.5, 1.6, 0.6],\n",
       "       [5.9, 3.2, 4.8, 1.8],\n",
       "       [5.1, 2.5, 3. , 1.1],\n",
       "       [6.9, 3.2, 5.7, 2.3],\n",
       "       [6. , 2.7, 5.1, 1.6],\n",
       "       [6.1, 2.6, 5.6, 1.4],\n",
       "       [7.7, 3. , 6.1, 2.3],\n",
       "       [5.5, 2.5, 4. , 1.3],\n",
       "       [4.4, 2.9, 1.4, 0.2],\n",
       "       [4.3, 3. , 1.1, 0.1],\n",
       "       [6. , 2.2, 5. , 1.5],\n",
       "       [7.2, 3.2, 6. , 1.8],\n",
       "       [4.6, 3.1, 1.5, 0.2],\n",
       "       [5.1, 3.5, 1.4, 0.3],\n",
       "       [4.4, 3. , 1.3, 0.2],\n",
       "       [6.3, 2.5, 4.9, 1.5],\n",
       "       [6.3, 3.4, 5.6, 2.4],\n",
       "       [4.6, 3.4, 1.4, 0.3],\n",
       "       [6.8, 3. , 5.5, 2.1],\n",
       "       [6.3, 3.3, 6. , 2.5],\n",
       "       [4.7, 3.2, 1.3, 0.2],\n",
       "       [6.1, 2.9, 4.7, 1.4],\n",
       "       [6.5, 2.8, 4.6, 1.5],\n",
       "       [6.2, 2.8, 4.8, 1.8],\n",
       "       [7. , 3.2, 4.7, 1.4],\n",
       "       [6.4, 3.2, 5.3, 2.3],\n",
       "       [5.1, 3.8, 1.6, 0.2],\n",
       "       [6.9, 3.1, 5.4, 2.1],\n",
       "       [5.9, 3. , 4.2, 1.5],\n",
       "       [6.5, 3. , 5.2, 2. ],\n",
       "       [5.7, 2.6, 3.5, 1. ],\n",
       "       [5.2, 2.7, 3.9, 1.4],\n",
       "       [6.1, 3. , 4.6, 1.4],\n",
       "       [4.5, 2.3, 1.3, 0.3],\n",
       "       [6.6, 2.9, 4.6, 1.3],\n",
       "       [5.5, 2.6, 4.4, 1.2],\n",
       "       [5.3, 3.7, 1.5, 0.2],\n",
       "       [5.6, 3. , 4.1, 1.3],\n",
       "       [7.3, 2.9, 6.3, 1.8],\n",
       "       [6.7, 3.3, 5.7, 2.1],\n",
       "       [5.1, 3.7, 1.5, 0.4],\n",
       "       [4.9, 2.4, 3.3, 1. ],\n",
       "       [6.7, 3.3, 5.7, 2.5],\n",
       "       [7.2, 3. , 5.8, 1.6],\n",
       "       [4.9, 3.6, 1.4, 0.1],\n",
       "       [6.7, 3.1, 5.6, 2.4],\n",
       "       [4.9, 3. , 1.4, 0.2],\n",
       "       [6.9, 3.1, 4.9, 1.5],\n",
       "       [7.4, 2.8, 6.1, 1.9],\n",
       "       [6.3, 2.9, 5.6, 1.8],\n",
       "       [5.7, 2.8, 4.1, 1.3],\n",
       "       [6.5, 3. , 5.5, 1.8],\n",
       "       [6.3, 2.3, 4.4, 1.3],\n",
       "       [6.4, 2.9, 4.3, 1.3],\n",
       "       [5.6, 2.8, 4.9, 2. ],\n",
       "       [5.9, 3. , 5.1, 1.8],\n",
       "       [5.4, 3.4, 1.7, 0.2],\n",
       "       [6.1, 2.8, 4. , 1.3],\n",
       "       [4.9, 2.5, 4.5, 1.7],\n",
       "       [5.8, 4. , 1.2, 0.2],\n",
       "       [5.8, 2.6, 4. , 1.2],\n",
       "       [7.1, 3. , 5.9, 2.1]])"
      ]
     },
     "execution_count": 15,
     "metadata": {},
     "output_type": "execute_result"
    }
   ],
   "source": [
    "X_train"
   ]
  },
  {
   "cell_type": "code",
   "execution_count": 16,
   "id": "010fe96c",
   "metadata": {
    "execution": {
     "iopub.execute_input": "2024-04-15T08:27:39.104137Z",
     "iopub.status.busy": "2024-04-15T08:27:39.102903Z",
     "iopub.status.idle": "2024-04-15T08:27:39.109673Z",
     "shell.execute_reply": "2024-04-15T08:27:39.108688Z"
    },
    "papermill": {
     "duration": 0.029538,
     "end_time": "2024-04-15T08:27:39.111898",
     "exception": false,
     "start_time": "2024-04-15T08:27:39.082360",
     "status": "completed"
    },
    "tags": []
   },
   "outputs": [
    {
     "data": {
      "text/plain": [
       "(30, 4)"
      ]
     },
     "execution_count": 16,
     "metadata": {},
     "output_type": "execute_result"
    }
   ],
   "source": [
    "X_test.shape"
   ]
  },
  {
   "cell_type": "code",
   "execution_count": 17,
   "id": "1444e03f",
   "metadata": {
    "execution": {
     "iopub.execute_input": "2024-04-15T08:27:39.153686Z",
     "iopub.status.busy": "2024-04-15T08:27:39.152397Z",
     "iopub.status.idle": "2024-04-15T08:27:39.161588Z",
     "shell.execute_reply": "2024-04-15T08:27:39.160485Z"
    },
    "papermill": {
     "duration": 0.032725,
     "end_time": "2024-04-15T08:27:39.164055",
     "exception": false,
     "start_time": "2024-04-15T08:27:39.131330",
     "status": "completed"
    },
    "tags": []
   },
   "outputs": [
    {
     "data": {
      "text/plain": [
       "array([[6.1, 2.8, 4.7, 1.2],\n",
       "       [5.7, 3.8, 1.7, 0.3],\n",
       "       [7.7, 2.6, 6.9, 2.3],\n",
       "       [6. , 2.9, 4.5, 1.5],\n",
       "       [6.8, 2.8, 4.8, 1.4],\n",
       "       [5.4, 3.4, 1.5, 0.4],\n",
       "       [5.6, 2.9, 3.6, 1.3],\n",
       "       [6.9, 3.1, 5.1, 2.3],\n",
       "       [6.2, 2.2, 4.5, 1.5],\n",
       "       [5.8, 2.7, 3.9, 1.2],\n",
       "       [6.5, 3.2, 5.1, 2. ],\n",
       "       [4.8, 3. , 1.4, 0.1],\n",
       "       [5.5, 3.5, 1.3, 0.2],\n",
       "       [4.9, 3.1, 1.5, 0.1],\n",
       "       [5.1, 3.8, 1.5, 0.3],\n",
       "       [6.3, 3.3, 4.7, 1.6],\n",
       "       [6.5, 3. , 5.8, 2.2],\n",
       "       [5.6, 2.5, 3.9, 1.1],\n",
       "       [5.7, 2.8, 4.5, 1.3],\n",
       "       [6.4, 2.8, 5.6, 2.2],\n",
       "       [4.7, 3.2, 1.6, 0.2],\n",
       "       [6.1, 3. , 4.9, 1.8],\n",
       "       [5. , 3.4, 1.6, 0.4],\n",
       "       [6.4, 2.8, 5.6, 2.1],\n",
       "       [7.9, 3.8, 6.4, 2. ],\n",
       "       [6.7, 3. , 5.2, 2.3],\n",
       "       [6.7, 2.5, 5.8, 1.8],\n",
       "       [6.8, 3.2, 5.9, 2.3],\n",
       "       [4.8, 3. , 1.4, 0.3],\n",
       "       [4.8, 3.1, 1.6, 0.2]])"
      ]
     },
     "execution_count": 17,
     "metadata": {},
     "output_type": "execute_result"
    }
   ],
   "source": [
    "X_test"
   ]
  },
  {
   "cell_type": "code",
   "execution_count": 18,
   "id": "d3d827e0",
   "metadata": {
    "execution": {
     "iopub.execute_input": "2024-04-15T08:27:39.206441Z",
     "iopub.status.busy": "2024-04-15T08:27:39.205085Z",
     "iopub.status.idle": "2024-04-15T08:27:39.211971Z",
     "shell.execute_reply": "2024-04-15T08:27:39.211018Z"
    },
    "papermill": {
     "duration": 0.030522,
     "end_time": "2024-04-15T08:27:39.214289",
     "exception": false,
     "start_time": "2024-04-15T08:27:39.183767",
     "status": "completed"
    },
    "tags": []
   },
   "outputs": [
    {
     "data": {
      "text/plain": [
       "(120,)"
      ]
     },
     "execution_count": 18,
     "metadata": {},
     "output_type": "execute_result"
    }
   ],
   "source": [
    "y_train.shape"
   ]
  },
  {
   "cell_type": "code",
   "execution_count": 19,
   "id": "8c809892",
   "metadata": {
    "execution": {
     "iopub.execute_input": "2024-04-15T08:27:39.257170Z",
     "iopub.status.busy": "2024-04-15T08:27:39.255837Z",
     "iopub.status.idle": "2024-04-15T08:27:39.263689Z",
     "shell.execute_reply": "2024-04-15T08:27:39.262622Z"
    },
    "papermill": {
     "duration": 0.031666,
     "end_time": "2024-04-15T08:27:39.265951",
     "exception": false,
     "start_time": "2024-04-15T08:27:39.234285",
     "status": "completed"
    },
    "tags": []
   },
   "outputs": [
    {
     "data": {
      "text/plain": [
       "array([0, 0, 1, 0, 0, 2, 1, 0, 0, 0, 2, 1, 1, 0, 0, 1, 2, 2, 1, 2, 1, 2,\n",
       "       1, 0, 2, 1, 0, 0, 0, 1, 2, 0, 0, 0, 1, 0, 1, 2, 0, 1, 2, 0, 2, 2,\n",
       "       1, 1, 2, 1, 0, 1, 2, 0, 0, 1, 1, 0, 2, 0, 0, 1, 1, 2, 1, 2, 2, 1,\n",
       "       0, 0, 2, 2, 0, 0, 0, 1, 2, 0, 2, 2, 0, 1, 1, 2, 1, 2, 0, 2, 1, 2,\n",
       "       1, 1, 1, 0, 1, 1, 0, 1, 2, 2, 0, 1, 2, 2, 0, 2, 0, 1, 2, 2, 1, 2,\n",
       "       1, 1, 2, 2, 0, 1, 2, 0, 1, 2])"
      ]
     },
     "execution_count": 19,
     "metadata": {},
     "output_type": "execute_result"
    }
   ],
   "source": [
    "y_train"
   ]
  },
  {
   "cell_type": "code",
   "execution_count": 20,
   "id": "2a90c240",
   "metadata": {
    "execution": {
     "iopub.execute_input": "2024-04-15T08:27:39.308832Z",
     "iopub.status.busy": "2024-04-15T08:27:39.308043Z",
     "iopub.status.idle": "2024-04-15T08:27:39.314316Z",
     "shell.execute_reply": "2024-04-15T08:27:39.313250Z"
    },
    "papermill": {
     "duration": 0.030477,
     "end_time": "2024-04-15T08:27:39.316546",
     "exception": false,
     "start_time": "2024-04-15T08:27:39.286069",
     "status": "completed"
    },
    "tags": []
   },
   "outputs": [
    {
     "data": {
      "text/plain": [
       "(30,)"
      ]
     },
     "execution_count": 20,
     "metadata": {},
     "output_type": "execute_result"
    }
   ],
   "source": [
    "y_test.shape"
   ]
  },
  {
   "cell_type": "code",
   "execution_count": 21,
   "id": "568f8994",
   "metadata": {
    "execution": {
     "iopub.execute_input": "2024-04-15T08:27:39.360056Z",
     "iopub.status.busy": "2024-04-15T08:27:39.359240Z",
     "iopub.status.idle": "2024-04-15T08:27:39.366358Z",
     "shell.execute_reply": "2024-04-15T08:27:39.365071Z"
    },
    "papermill": {
     "duration": 0.032037,
     "end_time": "2024-04-15T08:27:39.368983",
     "exception": false,
     "start_time": "2024-04-15T08:27:39.336946",
     "status": "completed"
    },
    "tags": []
   },
   "outputs": [
    {
     "data": {
      "text/plain": [
       "array([1, 0, 2, 1, 1, 0, 1, 2, 1, 1, 2, 0, 0, 0, 0, 1, 2, 1, 1, 2, 0, 2,\n",
       "       0, 2, 2, 2, 2, 2, 0, 0])"
      ]
     },
     "execution_count": 21,
     "metadata": {},
     "output_type": "execute_result"
    }
   ],
   "source": [
    "y_test"
   ]
  },
  {
   "cell_type": "markdown",
   "id": "4beff5e3",
   "metadata": {
    "papermill": {
     "duration": 0.020366,
     "end_time": "2024-04-15T08:27:39.410123",
     "exception": false,
     "start_time": "2024-04-15T08:27:39.389757",
     "status": "completed"
    },
    "tags": []
   },
   "source": [
    "# Naive Bayes model initialization"
   ]
  },
  {
   "cell_type": "code",
   "execution_count": 22,
   "id": "714d8458",
   "metadata": {
    "execution": {
     "iopub.execute_input": "2024-04-15T08:27:39.453382Z",
     "iopub.status.busy": "2024-04-15T08:27:39.452857Z",
     "iopub.status.idle": "2024-04-15T08:27:39.459248Z",
     "shell.execute_reply": "2024-04-15T08:27:39.457584Z"
    },
    "papermill": {
     "duration": 0.031451,
     "end_time": "2024-04-15T08:27:39.462066",
     "exception": false,
     "start_time": "2024-04-15T08:27:39.430615",
     "status": "completed"
    },
    "tags": []
   },
   "outputs": [],
   "source": [
    "# Inisialisasi model Naive Bayes\n",
    "naive_bayes_model = GaussianNB()"
   ]
  },
  {
   "cell_type": "markdown",
   "id": "5cb62bd3",
   "metadata": {
    "papermill": {
     "duration": 0.020573,
     "end_time": "2024-04-15T08:27:39.503697",
     "exception": false,
     "start_time": "2024-04-15T08:27:39.483124",
     "status": "completed"
    },
    "tags": []
   },
   "source": [
    "# Train the model with training data"
   ]
  },
  {
   "cell_type": "code",
   "execution_count": 23,
   "id": "caaf438e",
   "metadata": {
    "execution": {
     "iopub.execute_input": "2024-04-15T08:27:39.546670Z",
     "iopub.status.busy": "2024-04-15T08:27:39.546204Z",
     "iopub.status.idle": "2024-04-15T08:27:39.565138Z",
     "shell.execute_reply": "2024-04-15T08:27:39.563722Z"
    },
    "papermill": {
     "duration": 0.043712,
     "end_time": "2024-04-15T08:27:39.567891",
     "exception": false,
     "start_time": "2024-04-15T08:27:39.524179",
     "status": "completed"
    },
    "tags": []
   },
   "outputs": [
    {
     "data": {
      "text/html": [
       "<style>#sk-container-id-1 {color: black;background-color: white;}#sk-container-id-1 pre{padding: 0;}#sk-container-id-1 div.sk-toggleable {background-color: white;}#sk-container-id-1 label.sk-toggleable__label {cursor: pointer;display: block;width: 100%;margin-bottom: 0;padding: 0.3em;box-sizing: border-box;text-align: center;}#sk-container-id-1 label.sk-toggleable__label-arrow:before {content: \"▸\";float: left;margin-right: 0.25em;color: #696969;}#sk-container-id-1 label.sk-toggleable__label-arrow:hover:before {color: black;}#sk-container-id-1 div.sk-estimator:hover label.sk-toggleable__label-arrow:before {color: black;}#sk-container-id-1 div.sk-toggleable__content {max-height: 0;max-width: 0;overflow: hidden;text-align: left;background-color: #f0f8ff;}#sk-container-id-1 div.sk-toggleable__content pre {margin: 0.2em;color: black;border-radius: 0.25em;background-color: #f0f8ff;}#sk-container-id-1 input.sk-toggleable__control:checked~div.sk-toggleable__content {max-height: 200px;max-width: 100%;overflow: auto;}#sk-container-id-1 input.sk-toggleable__control:checked~label.sk-toggleable__label-arrow:before {content: \"▾\";}#sk-container-id-1 div.sk-estimator input.sk-toggleable__control:checked~label.sk-toggleable__label {background-color: #d4ebff;}#sk-container-id-1 div.sk-label input.sk-toggleable__control:checked~label.sk-toggleable__label {background-color: #d4ebff;}#sk-container-id-1 input.sk-hidden--visually {border: 0;clip: rect(1px 1px 1px 1px);clip: rect(1px, 1px, 1px, 1px);height: 1px;margin: -1px;overflow: hidden;padding: 0;position: absolute;width: 1px;}#sk-container-id-1 div.sk-estimator {font-family: monospace;background-color: #f0f8ff;border: 1px dotted black;border-radius: 0.25em;box-sizing: border-box;margin-bottom: 0.5em;}#sk-container-id-1 div.sk-estimator:hover {background-color: #d4ebff;}#sk-container-id-1 div.sk-parallel-item::after {content: \"\";width: 100%;border-bottom: 1px solid gray;flex-grow: 1;}#sk-container-id-1 div.sk-label:hover label.sk-toggleable__label {background-color: #d4ebff;}#sk-container-id-1 div.sk-serial::before {content: \"\";position: absolute;border-left: 1px solid gray;box-sizing: border-box;top: 0;bottom: 0;left: 50%;z-index: 0;}#sk-container-id-1 div.sk-serial {display: flex;flex-direction: column;align-items: center;background-color: white;padding-right: 0.2em;padding-left: 0.2em;position: relative;}#sk-container-id-1 div.sk-item {position: relative;z-index: 1;}#sk-container-id-1 div.sk-parallel {display: flex;align-items: stretch;justify-content: center;background-color: white;position: relative;}#sk-container-id-1 div.sk-item::before, #sk-container-id-1 div.sk-parallel-item::before {content: \"\";position: absolute;border-left: 1px solid gray;box-sizing: border-box;top: 0;bottom: 0;left: 50%;z-index: -1;}#sk-container-id-1 div.sk-parallel-item {display: flex;flex-direction: column;z-index: 1;position: relative;background-color: white;}#sk-container-id-1 div.sk-parallel-item:first-child::after {align-self: flex-end;width: 50%;}#sk-container-id-1 div.sk-parallel-item:last-child::after {align-self: flex-start;width: 50%;}#sk-container-id-1 div.sk-parallel-item:only-child::after {width: 0;}#sk-container-id-1 div.sk-dashed-wrapped {border: 1px dashed gray;margin: 0 0.4em 0.5em 0.4em;box-sizing: border-box;padding-bottom: 0.4em;background-color: white;}#sk-container-id-1 div.sk-label label {font-family: monospace;font-weight: bold;display: inline-block;line-height: 1.2em;}#sk-container-id-1 div.sk-label-container {text-align: center;}#sk-container-id-1 div.sk-container {/* jupyter's `normalize.less` sets `[hidden] { display: none; }` but bootstrap.min.css set `[hidden] { display: none !important; }` so we also need the `!important` here to be able to override the default hidden behavior on the sphinx rendered scikit-learn.org. See: https://github.com/scikit-learn/scikit-learn/issues/21755 */display: inline-block !important;position: relative;}#sk-container-id-1 div.sk-text-repr-fallback {display: none;}</style><div id=\"sk-container-id-1\" class=\"sk-top-container\"><div class=\"sk-text-repr-fallback\"><pre>GaussianNB()</pre><b>In a Jupyter environment, please rerun this cell to show the HTML representation or trust the notebook. <br />On GitHub, the HTML representation is unable to render, please try loading this page with nbviewer.org.</b></div><div class=\"sk-container\" hidden><div class=\"sk-item\"><div class=\"sk-estimator sk-toggleable\"><input class=\"sk-toggleable__control sk-hidden--visually\" id=\"sk-estimator-id-1\" type=\"checkbox\" checked><label for=\"sk-estimator-id-1\" class=\"sk-toggleable__label sk-toggleable__label-arrow\">GaussianNB</label><div class=\"sk-toggleable__content\"><pre>GaussianNB()</pre></div></div></div></div></div>"
      ],
      "text/plain": [
       "GaussianNB()"
      ]
     },
     "execution_count": 23,
     "metadata": {},
     "output_type": "execute_result"
    }
   ],
   "source": [
    "# Latih model dengan data pelatihan\n",
    "naive_bayes_model.fit(X_train, y_train)"
   ]
  },
  {
   "cell_type": "markdown",
   "id": "0a7616cf",
   "metadata": {
    "papermill": {
     "duration": 0.020468,
     "end_time": "2024-04-15T08:27:39.608981",
     "exception": false,
     "start_time": "2024-04-15T08:27:39.588513",
     "status": "completed"
    },
    "tags": []
   },
   "source": [
    "# Perform prediction on test data"
   ]
  },
  {
   "cell_type": "code",
   "execution_count": 24,
   "id": "b9ed9605",
   "metadata": {
    "execution": {
     "iopub.execute_input": "2024-04-15T08:27:39.652543Z",
     "iopub.status.busy": "2024-04-15T08:27:39.652022Z",
     "iopub.status.idle": "2024-04-15T08:27:39.659304Z",
     "shell.execute_reply": "2024-04-15T08:27:39.657859Z"
    },
    "papermill": {
     "duration": 0.032858,
     "end_time": "2024-04-15T08:27:39.662372",
     "exception": false,
     "start_time": "2024-04-15T08:27:39.629514",
     "status": "completed"
    },
    "tags": []
   },
   "outputs": [],
   "source": [
    "# Lakukan prediksi pada data uji\n",
    "y_pred = naive_bayes_model.predict(X_test)"
   ]
  },
  {
   "cell_type": "code",
   "execution_count": 25,
   "id": "c5324c11",
   "metadata": {
    "execution": {
     "iopub.execute_input": "2024-04-15T08:27:39.709758Z",
     "iopub.status.busy": "2024-04-15T08:27:39.709245Z",
     "iopub.status.idle": "2024-04-15T08:27:39.717476Z",
     "shell.execute_reply": "2024-04-15T08:27:39.716173Z"
    },
    "papermill": {
     "duration": 0.034359,
     "end_time": "2024-04-15T08:27:39.720312",
     "exception": false,
     "start_time": "2024-04-15T08:27:39.685953",
     "status": "completed"
    },
    "tags": []
   },
   "outputs": [
    {
     "data": {
      "text/plain": [
       "(30,)"
      ]
     },
     "execution_count": 25,
     "metadata": {},
     "output_type": "execute_result"
    }
   ],
   "source": [
    "y_pred.shape"
   ]
  },
  {
   "cell_type": "code",
   "execution_count": 26,
   "id": "a24f67eb",
   "metadata": {
    "execution": {
     "iopub.execute_input": "2024-04-15T08:27:39.765035Z",
     "iopub.status.busy": "2024-04-15T08:27:39.764520Z",
     "iopub.status.idle": "2024-04-15T08:27:39.773761Z",
     "shell.execute_reply": "2024-04-15T08:27:39.772547Z"
    },
    "papermill": {
     "duration": 0.034393,
     "end_time": "2024-04-15T08:27:39.776088",
     "exception": false,
     "start_time": "2024-04-15T08:27:39.741695",
     "status": "completed"
    },
    "tags": []
   },
   "outputs": [
    {
     "data": {
      "text/plain": [
       "array([1, 0, 2, 1, 1, 0, 1, 2, 1, 1, 2, 0, 0, 0, 0, 1, 2, 1, 1, 2, 0, 2,\n",
       "       0, 2, 2, 2, 2, 2, 0, 0])"
      ]
     },
     "execution_count": 26,
     "metadata": {},
     "output_type": "execute_result"
    }
   ],
   "source": [
    "y_pred"
   ]
  },
  {
   "cell_type": "markdown",
   "id": "004f5c2b",
   "metadata": {
    "papermill": {
     "duration": 0.020747,
     "end_time": "2024-04-15T08:27:39.818106",
     "exception": false,
     "start_time": "2024-04-15T08:27:39.797359",
     "status": "completed"
    },
    "tags": []
   },
   "source": [
    "# Calculate model accuracy"
   ]
  },
  {
   "cell_type": "code",
   "execution_count": 27,
   "id": "3e3261f2",
   "metadata": {
    "execution": {
     "iopub.execute_input": "2024-04-15T08:27:39.864407Z",
     "iopub.status.busy": "2024-04-15T08:27:39.863530Z",
     "iopub.status.idle": "2024-04-15T08:27:39.873090Z",
     "shell.execute_reply": "2024-04-15T08:27:39.871621Z"
    },
    "papermill": {
     "duration": 0.03705,
     "end_time": "2024-04-15T08:27:39.876706",
     "exception": false,
     "start_time": "2024-04-15T08:27:39.839656",
     "status": "completed"
    },
    "tags": []
   },
   "outputs": [
    {
     "name": "stdout",
     "output_type": "stream",
     "text": [
      "Akurasi: 1.0\n"
     ]
    }
   ],
   "source": [
    "# Hitung akurasi model\n",
    "accuracy = accuracy_score(y_test, y_pred)\n",
    "print(f'Akurasi: {accuracy}')"
   ]
  },
  {
   "cell_type": "markdown",
   "id": "cba322fe",
   "metadata": {
    "papermill": {
     "duration": 0.020899,
     "end_time": "2024-04-15T08:27:39.920573",
     "exception": false,
     "start_time": "2024-04-15T08:27:39.899674",
     "status": "completed"
    },
    "tags": []
   },
   "source": [
    "# Classification Report"
   ]
  },
  {
   "cell_type": "code",
   "execution_count": 28,
   "id": "d3799cdd",
   "metadata": {
    "execution": {
     "iopub.execute_input": "2024-04-15T08:27:39.966376Z",
     "iopub.status.busy": "2024-04-15T08:27:39.965012Z",
     "iopub.status.idle": "2024-04-15T08:27:39.980559Z",
     "shell.execute_reply": "2024-04-15T08:27:39.979210Z"
    },
    "papermill": {
     "duration": 0.041176,
     "end_time": "2024-04-15T08:27:39.983261",
     "exception": false,
     "start_time": "2024-04-15T08:27:39.942085",
     "status": "completed"
    },
    "tags": []
   },
   "outputs": [
    {
     "name": "stdout",
     "output_type": "stream",
     "text": [
      "              precision    recall  f1-score   support\n",
      "\n",
      "           0       1.00      1.00      1.00        10\n",
      "           1       1.00      1.00      1.00         9\n",
      "           2       1.00      1.00      1.00        11\n",
      "\n",
      "    accuracy                           1.00        30\n",
      "   macro avg       1.00      1.00      1.00        30\n",
      "weighted avg       1.00      1.00      1.00        30\n",
      "\n"
     ]
    }
   ],
   "source": [
    "print(classification_report(y_test,y_pred))"
   ]
  },
  {
   "cell_type": "markdown",
   "id": "44c2b117",
   "metadata": {
    "papermill": {
     "duration": 0.020589,
     "end_time": "2024-04-15T08:27:40.024871",
     "exception": false,
     "start_time": "2024-04-15T08:27:40.004282",
     "status": "completed"
    },
    "tags": []
   },
   "source": [
    "# Confusion Matrix"
   ]
  },
  {
   "cell_type": "code",
   "execution_count": 29,
   "id": "4b96f9e0",
   "metadata": {
    "execution": {
     "iopub.execute_input": "2024-04-15T08:27:40.070517Z",
     "iopub.status.busy": "2024-04-15T08:27:40.070073Z",
     "iopub.status.idle": "2024-04-15T08:27:40.593121Z",
     "shell.execute_reply": "2024-04-15T08:27:40.591810Z"
    },
    "papermill": {
     "duration": 0.549354,
     "end_time": "2024-04-15T08:27:40.595925",
     "exception": false,
     "start_time": "2024-04-15T08:27:40.046571",
     "status": "completed"
    },
    "tags": []
   },
   "outputs": [
    {
     "data": {
      "text/plain": [
       "array([[10,  0,  0],\n",
       "       [ 0,  9,  0],\n",
       "       [ 0,  0, 11]])"
      ]
     },
     "execution_count": 29,
     "metadata": {},
     "output_type": "execute_result"
    }
   ],
   "source": [
    "import matplotlib.pyplot as plt\n",
    "import seaborn as sns\n",
    "from sklearn.metrics import confusion_matrix\n",
    "\n",
    "# Hitung confusion matrix\n",
    "cm = confusion_matrix(y_test, y_pred)\n",
    "cm"
   ]
  },
  {
   "cell_type": "code",
   "execution_count": 30,
   "id": "70e0af64",
   "metadata": {
    "execution": {
     "iopub.execute_input": "2024-04-15T08:27:40.641193Z",
     "iopub.status.busy": "2024-04-15T08:27:40.640702Z",
     "iopub.status.idle": "2024-04-15T08:27:41.016638Z",
     "shell.execute_reply": "2024-04-15T08:27:41.015409Z"
    },
    "papermill": {
     "duration": 0.40189,
     "end_time": "2024-04-15T08:27:41.019384",
     "exception": false,
     "start_time": "2024-04-15T08:27:40.617494",
     "status": "completed"
    },
    "tags": []
   },
   "outputs": [
    {
     "data": {
      "image/png": "[encoded data removed]",
      "text/plain": [
       "<Figure size 640x480 with 2 Axes>"
      ]
     },
     "metadata": {},
     "output_type": "display_data"
    }
   ],
   "source": [
    "# Tampilkan confusion matrix dengan heatmap menggunakan seaborn\n",
    "sns.heatmap(cm, annot=True, fmt=\"d\", cmap=\"Blues\", xticklabels=iris.target_names, yticklabels=iris.target_names)\n",
    "plt.title(\"Confusion Matrix\")\n",
    "plt.xlabel(\"Predicted Label\")\n",
    "plt.ylabel(\"True Label\")\n",
    "plt.show()"
   ]
  },
  {
   "cell_type": "markdown",
   "id": "1ba77455",
   "metadata": {
    "papermill": {
     "duration": 0.021506,
     "end_time": "2024-04-15T08:27:41.063313",
     "exception": false,
     "start_time": "2024-04-15T08:27:41.041807",
     "status": "completed"
    },
    "tags": []
   },
   "source": [
    "Visualisasi Confusion Matrix menggunakan heatmap memberikan gambaran yang lebih intuitif tentang sejauh mana model klasifikasi dapat membedakan antara kelas-kelas yang berbeda. Heatmap ini menampilkan matriks dengan warna-warna yang berbeda untuk memvisualisasikan jumlah prediksi yang benar dan yang salah.\n",
    "\n",
    "Dalam heatmap confusion matrix:\n",
    "\n",
    "1. Warna Blok (Square): Setiap blok (square) pada heatmap mewakili satu sel dalam confusion matrix. Warna blok menunjukkan seberapa besar nilai di dalamnya. Biasanya, warna-warna yang lebih gelap atau lebih terang digunakan untuk membedakan nilai yang lebih tinggi dan lebih rendah.\n",
    "\n",
    "1. Label Kelas: Pada sumbu x dan y heatmap, label kelas ditampilkan. Ini membantu dalam mengidentifikasi kelas-kelas yang diukur oleh confusion matrix. Label kelas dapat muncul sebagai nama kelas atau indeks numerik, tergantung pada cara Anda mengatur parameter.\n",
    "\n",
    "1. Anotasi Angka: Angka di dalam setiap blok (square) heatmap memberikan jumlah kasus yang sesuai dengan sel tertentu dalam confusion matrix. Ini mencakup True Positive (TP), True Negative (TN), False Positive (FP), dan False Negative (FN).\n",
    "\n",
    "Visualisasi heatmap ini membantu pengguna dengan cepat mengidentifikasi kelas yang mungkin memiliki performa lebih baik atau lebih buruk oleh model, terutama melalui perbedaan warna antarblok. Pada umumnya, diagonal dari kiri atas ke kanan bawah (disebut diagonal utama) mencerminkan prediksi yang benar, sementara blok di luar diagonal utama menggambarkan kesalahan prediksi.\n",
    "\n",
    "Misalnya, pada confusion matrix heatmap, Anda dapat melihat seberapa banyak instance dari setiap kelas yang diprediksi dengan benar (TP) dan seberapa banyak yang diprediksi dengan salah (FP dan FN). Dengan melihat visualisasi ini, Anda dapat mengevaluasi sejauh mana model dapat mengidentifikasi kelas tertentu dengan baik.\n"
   ]
  },
  {
   "cell_type": "markdown",
   "id": "632f883a",
   "metadata": {
    "papermill": {
     "duration": 0.021392,
     "end_time": "2024-04-15T08:27:41.108540",
     "exception": false,
     "start_time": "2024-04-15T08:27:41.087148",
     "status": "completed"
    },
    "tags": []
   },
   "source": [
    "# Math on confusion matrix\n",
    "\n",
    "\n",
    "* Total data test = 0.2 * 150 = 30\n",
    "\n",
    "\n",
    "* True setosa = 10\n",
    "* False setosa = 0\n",
    "* False setosa = 0\n",
    "\n",
    "\n",
    "* True versicolor = 9\n",
    "* False versicolor = 0\n",
    "* False versicolor = 0\n",
    "\n",
    "\n",
    "* True virginica = 11\n",
    "* False virginica = 0\n",
    "* False virginica = 0\n",
    "\n",
    "\n",
    "* ACCURACY = (True setosa + True versicolor + True virginica)/Total data test = (10 + 9 + 11)/30 = 1\n",
    "\n",
    "\n",
    "* PRECISION setosa = True setosa/(True setosa + False setosa) = 10/(10 + 0) = 1\n",
    "* PRECISION versicolor = True versicolor/(True versicolor + False versicolor) = 9/(9 + 0) = 1\n",
    "* PRECISION virginica = True virginica/(true virginica + False virginica) = 11/(11+0) = 1\n",
    "\n",
    "\n",
    "* RECALL (Sensitivity atau True positive rate)\n",
    "* RECALL setosa = True setosa/(True setosa + False versicolor + False virginica) = 10/(10 + 0 + 0) = 1\n",
    "* RECALL versicolor = True versicolor/(True versicolor + False versicolor + False versicolor) = 9/(9 + 0 + 0) = 1\n",
    "* RECALL virginica = True virginica/(True virginica + False virginica + False virginica) = 11/(11 + 0 + 0) = 1\n",
    "\n",
    "\n",
    "* SPECIFICITY (True negative rate)\n",
    "* SPECIFICITY setosa = (True versicolor + True virginica)/(True versicolor + True virginica + False setosa) = (9 + 11)/(9 + 11 + 0) = 1\n",
    "\n",
    "* SPECIFICITY versicolor = (True setosa + True virginica)/(True setosa + True virginica + False versicolor) = (10 + 11)/(10 + 11 + 0) = 1\n",
    "\n",
    "* SPECIFICITY virginica = (True setosa + True versicolor)/(True setosa + True versicolor + False virginica) = (10 + 9)/(10 + 9 + 0) = 1\n",
    "\n",
    "\n",
    "\n",
    "* F1-SCORE setosa = (2 x Precision setosa x Recall setosa ) / (Precision setosa + Recall setosa) = (2 x 1 x 1)/(1 + 1 ) = 1\n",
    "\n",
    "* F1-SCORE versicolor = (2 x Precision versicolor x Recall versicolor ) / (Precision versicolor + Recall versicolor) = (2 x 1 x 1)/(1 + 1 ) = 1\n",
    "\n",
    "* F1-SCORE virginica = (2 x Precision virginica x Recall virginica ) / (Precision virginica + Recall virginica) = (2 x 1 x 1)/(1 + 1 ) = 1"
   ]
  },
  {
   "cell_type": "markdown",
   "id": "3fc0f2c4",
   "metadata": {
    "papermill": {
     "duration": 0.02267,
     "end_time": "2024-04-15T08:27:41.153142",
     "exception": false,
     "start_time": "2024-04-15T08:27:41.130472",
     "status": "completed"
    },
    "tags": []
   },
   "source": [
    "# Precision score"
   ]
  },
  {
   "cell_type": "code",
   "execution_count": 31,
   "id": "e0347659",
   "metadata": {
    "execution": {
     "iopub.execute_input": "2024-04-15T08:27:41.200010Z",
     "iopub.status.busy": "2024-04-15T08:27:41.198787Z",
     "iopub.status.idle": "2024-04-15T08:27:41.209575Z",
     "shell.execute_reply": "2024-04-15T08:27:41.208332Z"
    },
    "papermill": {
     "duration": 0.037188,
     "end_time": "2024-04-15T08:27:41.212369",
     "exception": false,
     "start_time": "2024-04-15T08:27:41.175181",
     "status": "completed"
    },
    "tags": []
   },
   "outputs": [
    {
     "data": {
      "text/plain": [
       "array([1., 1., 1.])"
      ]
     },
     "execution_count": 31,
     "metadata": {},
     "output_type": "execute_result"
    }
   ],
   "source": [
    "from sklearn.metrics import precision_score\n",
    "\n",
    "# Menghitung precision untuk setiap kelas\n",
    "precision_values=precision_score(y_test, y_pred, average=None)\n",
    "precision_values"
   ]
  },
  {
   "cell_type": "code",
   "execution_count": 32,
   "id": "cf76e099",
   "metadata": {
    "execution": {
     "iopub.execute_input": "2024-04-15T08:27:41.259191Z",
     "iopub.status.busy": "2024-04-15T08:27:41.258675Z",
     "iopub.status.idle": "2024-04-15T08:27:41.511484Z",
     "shell.execute_reply": "2024-04-15T08:27:41.510210Z"
    },
    "papermill": {
     "duration": 0.279147,
     "end_time": "2024-04-15T08:27:41.514098",
     "exception": false,
     "start_time": "2024-04-15T08:27:41.234951",
     "status": "completed"
    },
    "tags": []
   },
   "outputs": [
    {
     "data": {
      "image/png": "[encoded data removed]",
      "text/plain": [
       "<Figure size 500x300 with 1 Axes>"
      ]
     },
     "metadata": {},
     "output_type": "display_data"
    }
   ],
   "source": [
    "# Nama kelas untuk dataset Iris\n",
    "class_names = iris.target_names\n",
    "\n",
    "# Membuat plot\n",
    "plt.figure(figsize=(5, 3))\n",
    "plt.bar(class_names, precision_values, color='blue')\n",
    "plt.title('Precision for Each Class (Iris Dataset)')\n",
    "plt.xlabel('Class')\n",
    "plt.ylabel('Precision')\n",
    "plt.show()"
   ]
  },
  {
   "cell_type": "markdown",
   "id": "59199539",
   "metadata": {
    "papermill": {
     "duration": 0.02222,
     "end_time": "2024-04-15T08:27:41.558950",
     "exception": false,
     "start_time": "2024-04-15T08:27:41.536730",
     "status": "completed"
    },
    "tags": []
   },
   "source": [
    "# Recall score"
   ]
  },
  {
   "cell_type": "code",
   "execution_count": 33,
   "id": "577c4840",
   "metadata": {
    "execution": {
     "iopub.execute_input": "2024-04-15T08:27:41.606269Z",
     "iopub.status.busy": "2024-04-15T08:27:41.605764Z",
     "iopub.status.idle": "2024-04-15T08:27:41.616567Z",
     "shell.execute_reply": "2024-04-15T08:27:41.615420Z"
    },
    "papermill": {
     "duration": 0.037586,
     "end_time": "2024-04-15T08:27:41.619207",
     "exception": false,
     "start_time": "2024-04-15T08:27:41.581621",
     "status": "completed"
    },
    "tags": []
   },
   "outputs": [
    {
     "data": {
      "text/plain": [
       "array([1., 1., 1.])"
      ]
     },
     "execution_count": 33,
     "metadata": {},
     "output_type": "execute_result"
    }
   ],
   "source": [
    "from sklearn.metrics import recall_score\n",
    "recall_values=recall_score(y_test, y_pred, average=None)\n",
    "recall_values"
   ]
  },
  {
   "cell_type": "code",
   "execution_count": 34,
   "id": "bd78566d",
   "metadata": {
    "execution": {
     "iopub.execute_input": "2024-04-15T08:27:41.667692Z",
     "iopub.status.busy": "2024-04-15T08:27:41.666126Z",
     "iopub.status.idle": "2024-04-15T08:27:41.916839Z",
     "shell.execute_reply": "2024-04-15T08:27:41.915719Z"
    },
    "papermill": {
     "duration": 0.277991,
     "end_time": "2024-04-15T08:27:41.919640",
     "exception": false,
     "start_time": "2024-04-15T08:27:41.641649",
     "status": "completed"
    },
    "tags": []
   },
   "outputs": [
    {
     "data": {
      "image/png": "[encoded data removed]",
      "text/plain": [
       "<Figure size 500x300 with 1 Axes>"
      ]
     },
     "metadata": {},
     "output_type": "display_data"
    }
   ],
   "source": [
    "# Nama kelas untuk dataset Iris\n",
    "class_names = iris.target_names\n",
    "\n",
    "# Membuat plot\n",
    "plt.figure(figsize=(5, 3))\n",
    "plt.bar(class_names, recall_values, color='green')\n",
    "plt.title('Recall for Each Class (Iris Dataset)')\n",
    "plt.xlabel('Class')\n",
    "plt.ylabel('Recall')\n",
    "plt.show()"
   ]
  },
  {
   "cell_type": "markdown",
   "id": "96d2edaa",
   "metadata": {
    "papermill": {
     "duration": 0.022451,
     "end_time": "2024-04-15T08:27:41.965083",
     "exception": false,
     "start_time": "2024-04-15T08:27:41.942632",
     "status": "completed"
    },
    "tags": []
   },
   "source": [
    "# Kurva ROC"
   ]
  },
  {
   "cell_type": "code",
   "execution_count": 35,
   "id": "160f9647",
   "metadata": {
    "execution": {
     "iopub.execute_input": "2024-04-15T08:27:42.012658Z",
     "iopub.status.busy": "2024-04-15T08:27:42.012196Z",
     "iopub.status.idle": "2024-04-15T08:27:42.374335Z",
     "shell.execute_reply": "2024-04-15T08:27:42.373012Z"
    },
    "papermill": {
     "duration": 0.389967,
     "end_time": "2024-04-15T08:27:42.377648",
     "exception": false,
     "start_time": "2024-04-15T08:27:41.987681",
     "status": "completed"
    },
    "tags": []
   },
   "outputs": [
    {
     "data": {
      "image/png": "[encoded data removed]",
      "text/plain": [
       "<Figure size 640x480 with 1 Axes>"
      ]
     },
     "metadata": {},
     "output_type": "display_data"
    }
   ],
   "source": [
    "from sklearn.metrics import roc_curve, auc\n",
    "from sklearn.preprocessing import label_binarize\n",
    "from sklearn.multiclass import OneVsRestClassifier\n",
    "from sklearn.metrics import roc_auc_score\n",
    "\n",
    "# Lakukan prediksi pada data uji\n",
    "y_score = naive_bayes_model.predict_proba(X_test)\n",
    "\n",
    "# Binarize output\n",
    "y_test_bin = label_binarize(y_test, classes=[0, 1, 2])\n",
    "\n",
    "# Compute ROC curve and ROC area for each class\n",
    "fpr = dict()\n",
    "tpr = dict()\n",
    "roc_auc = dict()\n",
    "for i in range(3):  # Karena kita memiliki 3 kelas\n",
    "    fpr[i], tpr[i], _ = roc_curve(y_test_bin[:, i], y_score[:, i])\n",
    "    roc_auc[i] = auc(fpr[i], tpr[i])\n",
    "\n",
    "# Plot ROC curve for each class\n",
    "plt.figure()\n",
    "lw = 2\n",
    "colors = ['blue', 'red', 'green']\n",
    "for i, color in zip(range(3), colors):\n",
    "    plt.plot(fpr[i], tpr[i], color=color, lw=lw, label='ROC curve (area = %0.2f) for class %d' % (roc_auc[i], i))\n",
    "\n",
    "plt.plot([0, 1], [0, 1], color='navy', lw=lw, linestyle='--')\n",
    "plt.xlim([0.0, 1.0])\n",
    "plt.ylim([0.0, 1.05])\n",
    "plt.xlabel('False Positive Rate')\n",
    "plt.ylabel('True Positive Rate')\n",
    "plt.title('Receiver Operating Characteristic (ROC) Curve for each class')\n",
    "plt.legend(loc=\"lower right\")\n",
    "plt.show()"
   ]
  },
  {
   "cell_type": "markdown",
   "id": "23e66f7e",
   "metadata": {
    "papermill": {
     "duration": 0.02444,
     "end_time": "2024-04-15T08:27:42.426714",
     "exception": false,
     "start_time": "2024-04-15T08:27:42.402274",
     "status": "completed"
    },
    "tags": []
   },
   "source": [
    "Kurva ROC (Receiver Operating Characteristic) memberikan gambaran tentang kinerja suatu model klasifikasi pada berbagai tingkat ambang batas (threshold) untuk memprediksi suatu kelas. Mari kita lihat beberapa elemen utama pada kurva ROC:\n",
    "\n",
    "1. Summit Kiri Atas (Top-Left Corner): Titik (0, 1) pada kurva ROC mewakili situasi di mana model benar-benar dapat membedakan antara kelas positif dan kelas negatif, tanpa adanya kesalahan prediksi kelas negatif sebagai kelas positif (true positive rate = 1 dan false positive rate = 0).\n",
    "\n",
    "1. Garis Diagonal (Random Classifier): Garis diagonal dari (0, 0) ke (1, 1) mewakili prediksi acak dari model. Model yang memiliki kinerja lebih buruk daripada prediksi acak akan memiliki kurva ROC di bawah garis ini.\n",
    "\n",
    "1. AUC (Area Under the Curve): AUC mengukur luas area di bawah kurva ROC. AUC memberikan indikasi tentang seberapa baik model dapat memisahkan kelas positif dan kelas negatif. Semakin besar AUC, semakin baik performa model. AUC bernilai antara 0 dan 1, dengan nilai 1 menunjukkan kinerja sempurna.\n",
    "\n",
    "1. Kurva Itself: Kurva ROC menunjukkan trade-off antara True Positive Rate (Sensitivity atau Recall) dan False Positive Rate. Dengan meningkatkan sensitivitas (TPR), biasanya juga meningkatkan jumlah false positive (FPR). Oleh karena itu, poin pada kurva ROC mencerminkan kinerja model pada berbagai ambang batas.\n",
    "\n",
    "Cara Membaca Kurva ROC:\n",
    "\n",
    "* Titik pada Kurva: Setiap titik pada kurva ROC mewakili kinerja model pada suatu ambang batas tertentu. Pada umumnya, model dengan kurva ROC yang lebih dekat ke sudut kiri atas dianggap lebih baik.\n",
    "\n",
    "* Kurva Lebih Tinggi: Kurva yang lebih tinggi menunjukkan performa yang lebih baik. Semakin tinggi kurva ROC, semakin besar nilai True Positive Rate (sensitivitas) dibandingkan dengan nilai False Positive Rate (1 - spesifikasinya).\n",
    "\n",
    "* Garis Diagonal vs. Kurva ROC: Model yang berada di atas garis diagonal (random classifier) dianggap lebih baik daripada model yang berada di bawahnya. Pada garis diagonal, TPR = FPR, yang menunjukkan bahwa model tidak dapat membedakan antara kelas positif dan kelas negatif.\n",
    "\n",
    "Dengan memahami elemen-elemen tersebut, Anda dapat membaca dan menginterpretasikan kurva ROC untuk mengevaluasi kinerja model klasifikasi Anda."
   ]
  },
  {
   "cell_type": "markdown",
   "id": "c3df63ca",
   "metadata": {
    "papermill": {
     "duration": 0.024324,
     "end_time": "2024-04-15T08:27:42.475497",
     "exception": false,
     "start_time": "2024-04-15T08:27:42.451173",
     "status": "completed"
    },
    "tags": []
   },
   "source": [
    "# Perform prediction on new data"
   ]
  },
  {
   "cell_type": "code",
   "execution_count": 36,
   "id": "2340e002",
   "metadata": {
    "execution": {
     "iopub.execute_input": "2024-04-15T08:27:42.525765Z",
     "iopub.status.busy": "2024-04-15T08:27:42.524770Z",
     "iopub.status.idle": "2024-04-15T08:27:42.532140Z",
     "shell.execute_reply": "2024-04-15T08:27:42.531337Z"
    },
    "papermill": {
     "duration": 0.035173,
     "end_time": "2024-04-15T08:27:42.534631",
     "exception": false,
     "start_time": "2024-04-15T08:27:42.499458",
     "status": "completed"
    },
    "tags": []
   },
   "outputs": [
    {
     "name": "stdout",
     "output_type": "stream",
     "text": [
      "['setosa']\n"
     ]
    }
   ],
   "source": [
    "new_data = np.array([[5.1, 3.5, 1.4, 0.2]])  # Gantilah nilai-nilai ini sesuai dengan data baru yang ingin Anda uji\n",
    "\n",
    "# Lakukan prediksi pada data baru\n",
    "predicted_class = naive_bayes_model.predict(new_data)\n",
    "predicted_class_name=iris.target_names[predicted_class]\n",
    "print(predicted_class_name)"
   ]
  },
  {
   "cell_type": "markdown",
   "id": "3dda17f5",
   "metadata": {
    "papermill": {
     "duration": 0.02374,
     "end_time": "2024-04-15T08:27:42.582872",
     "exception": false,
     "start_time": "2024-04-15T08:27:42.559132",
     "status": "completed"
    },
    "tags": []
   },
   "source": [
    "See also [Iris Dataframe-Naive Bayes](https://www.kaggle.com/code/nandaprasetia/iris-dataframe-naive-bayes) and [Dataset Iris](https://www.kaggle.com/code/nandaprasetia/dataset-iris)"
   ]
  }
 ],
 "metadata": {
  "kaggle": {
   "accelerator": "none",
   "dataSources": [],
   "dockerImageVersionId": 30558,
   "isGpuEnabled": false,
   "isInternetEnabled": true,
   "language": "python",
   "sourceType": "notebook"
  },
  "kernelspec": {
   "display_name": "Python 3",
   "language": "python",
   "name": "python3"
  },
  "language_info": {
   "codemirror_mode": {
    "name": "ipython",
    "version": 3
   },
   "file_extension": ".py",
   "mimetype": "text/x-python",
   "name": "python",
   "nbconvert_exporter": "python",
   "pygments_lexer": "ipython3",
   "version": "3.10.12"
  },
  "papermill": {
   "default_parameters": {},
   "duration": 13.174839,
   "end_time": "2024-04-15T08:27:43.531525",
   "environment_variables": {},
   "exception": null,
   "input_path": "__notebook__.ipynb",
   "output_path": "__notebook__.ipynb",
   "parameters": {},
   "start_time": "2024-04-15T08:27:30.356686",
   "version": "2.4.0"
  }
 },
 "nbformat": 4,
 "nbformat_minor": 5
}
